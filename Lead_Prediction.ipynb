{
 "cells": [
  {
   "cell_type": "code",
   "execution_count": 533,
   "metadata": {
    "collapsed": false
   },
   "outputs": [],
   "source": [
    "#import required modules\n",
    "import numpy as np\n",
    "import pandas as pd\n",
    "import matplotlib.pyplot as plt\n",
    "import seaborn as sns\n",
    "import pandas_profiling\n",
    "import datetime\n",
    "from sklearn import preprocessing\n",
    "from sklearn.model_selection import train_test_split\n",
    "from sklearn.ensemble import RandomForestClassifier\n",
    "from sklearn.metrics import classification_report,confusion_matrix, accuracy_score\n",
    "from imblearn.over_sampling import SMOTE \n",
    "from sklearn.model_selection import KFold\n",
    "from sklearn.model_selection import GridSearchCV\n",
    "import mlflow\n",
    "import mlflow.sklearn\n",
    "from mlflow import log_metric, log_param, log_artifact\n",
    "\n",
    "\n",
    "#set aesthetics requirements\n",
    "sns.set(style=\"white\")\n",
    "pd.set_option('display.float_format', lambda x: '%.5f' % x)\n",
    "pd.options.display.float_format = '{:,}'.format\n",
    "pd.set_option('display.max_columns', 200)\n",
    "pd.set_option('display.max_rows', 200)\n",
    "\n",
    "import warnings\n",
    "warnings.filterwarnings(\"ignore\", category=DeprecationWarning) "
   ]
  },
  {
   "cell_type": "code",
   "execution_count": 534,
   "metadata": {
    "collapsed": false
   },
   "outputs": [
    {
     "data": {
      "text/html": [
       "<div>\n",
       "<style scoped>\n",
       "    .dataframe tbody tr th:only-of-type {\n",
       "        vertical-align: middle;\n",
       "    }\n",
       "\n",
       "    .dataframe tbody tr th {\n",
       "        vertical-align: top;\n",
       "    }\n",
       "\n",
       "    .dataframe thead th {\n",
       "        text-align: right;\n",
       "    }\n",
       "</style>\n",
       "<table border=\"1\" class=\"dataframe\">\n",
       "  <thead>\n",
       "    <tr style=\"text-align: right;\">\n",
       "      <th></th>\n",
       "      <th>mql_id</th>\n",
       "      <th>first_contact_date</th>\n",
       "      <th>landing_page_id</th>\n",
       "      <th>origin</th>\n",
       "    </tr>\n",
       "  </thead>\n",
       "  <tbody>\n",
       "    <tr>\n",
       "      <th>0</th>\n",
       "      <td>dac32acd4db4c29c230538b72f8dd87d</td>\n",
       "      <td>2018-02-01</td>\n",
       "      <td>88740e65d5d6b056e0cda098e1ea6313</td>\n",
       "      <td>social</td>\n",
       "    </tr>\n",
       "    <tr>\n",
       "      <th>1</th>\n",
       "      <td>8c18d1de7f67e60dbd64e3c07d7e9d5d</td>\n",
       "      <td>2017-10-20</td>\n",
       "      <td>007f9098284a86ee80ddeb25d53e0af8</td>\n",
       "      <td>paid_search</td>\n",
       "    </tr>\n",
       "    <tr>\n",
       "      <th>2</th>\n",
       "      <td>b4bc852d233dfefc5131f593b538befa</td>\n",
       "      <td>2018-03-22</td>\n",
       "      <td>a7982125ff7aa3b2054c6e44f9d28522</td>\n",
       "      <td>organic_search</td>\n",
       "    </tr>\n",
       "    <tr>\n",
       "      <th>3</th>\n",
       "      <td>6be030b81c75970747525b843c1ef4f8</td>\n",
       "      <td>2018-01-22</td>\n",
       "      <td>d45d558f0daeecf3cccdffe3c59684aa</td>\n",
       "      <td>email</td>\n",
       "    </tr>\n",
       "    <tr>\n",
       "      <th>4</th>\n",
       "      <td>5420aad7fec3549a85876ba1c529bd84</td>\n",
       "      <td>2018-02-21</td>\n",
       "      <td>b48ec5f3b04e9068441002a19df93c6c</td>\n",
       "      <td>organic_search</td>\n",
       "    </tr>\n",
       "  </tbody>\n",
       "</table>\n",
       "</div>"
      ],
      "text/plain": [
       "                             mql_id first_contact_date  \\\n",
       "0  dac32acd4db4c29c230538b72f8dd87d         2018-02-01   \n",
       "1  8c18d1de7f67e60dbd64e3c07d7e9d5d         2017-10-20   \n",
       "2  b4bc852d233dfefc5131f593b538befa         2018-03-22   \n",
       "3  6be030b81c75970747525b843c1ef4f8         2018-01-22   \n",
       "4  5420aad7fec3549a85876ba1c529bd84         2018-02-21   \n",
       "\n",
       "                    landing_page_id          origin  \n",
       "0  88740e65d5d6b056e0cda098e1ea6313          social  \n",
       "1  007f9098284a86ee80ddeb25d53e0af8     paid_search  \n",
       "2  a7982125ff7aa3b2054c6e44f9d28522  organic_search  \n",
       "3  d45d558f0daeecf3cccdffe3c59684aa           email  \n",
       "4  b48ec5f3b04e9068441002a19df93c6c  organic_search  "
      ]
     },
     "execution_count": 534,
     "metadata": {},
     "output_type": "execute_result"
    }
   ],
   "source": [
    "# Reading the csv file and putting it into 'df' object.\n",
    "leads = pd.read_csv('datasets_78342_179673_olist_marketing_qualified_leads_dataset.csv')\n",
    "leads.head()"
   ]
  },
  {
   "cell_type": "code",
   "execution_count": 535,
   "metadata": {
    "collapsed": false
   },
   "outputs": [
    {
     "name": "stdout",
     "output_type": "stream",
     "text": [
      "<class 'pandas.core.frame.DataFrame'>\n",
      "RangeIndex: 8000 entries, 0 to 7999\n",
      "Data columns (total 4 columns):\n",
      "mql_id                8000 non-null object\n",
      "first_contact_date    8000 non-null object\n",
      "landing_page_id       8000 non-null object\n",
      "origin                7940 non-null object\n",
      "dtypes: object(4)\n",
      "memory usage: 250.1+ KB\n"
     ]
    }
   ],
   "source": [
    "leads.info()"
   ]
  },
  {
   "cell_type": "code",
   "execution_count": 536,
   "metadata": {
    "collapsed": false
   },
   "outputs": [
    {
     "data": {
      "text/html": [
       "<div>\n",
       "<style scoped>\n",
       "    .dataframe tbody tr th:only-of-type {\n",
       "        vertical-align: middle;\n",
       "    }\n",
       "\n",
       "    .dataframe tbody tr th {\n",
       "        vertical-align: top;\n",
       "    }\n",
       "\n",
       "    .dataframe thead th {\n",
       "        text-align: right;\n",
       "    }\n",
       "</style>\n",
       "<table border=\"1\" class=\"dataframe\">\n",
       "  <thead>\n",
       "    <tr style=\"text-align: right;\">\n",
       "      <th></th>\n",
       "      <th>mql_id</th>\n",
       "      <th>first_contact_date</th>\n",
       "      <th>landing_page_id</th>\n",
       "      <th>origin</th>\n",
       "    </tr>\n",
       "  </thead>\n",
       "  <tbody>\n",
       "    <tr>\n",
       "      <th>count</th>\n",
       "      <td>8000</td>\n",
       "      <td>8000</td>\n",
       "      <td>8000</td>\n",
       "      <td>7940</td>\n",
       "    </tr>\n",
       "    <tr>\n",
       "      <th>unique</th>\n",
       "      <td>8000</td>\n",
       "      <td>336</td>\n",
       "      <td>495</td>\n",
       "      <td>10</td>\n",
       "    </tr>\n",
       "    <tr>\n",
       "      <th>top</th>\n",
       "      <td>524e7d08e755cc664226b3d4b8660cd7</td>\n",
       "      <td>2018-05-02</td>\n",
       "      <td>b76ef37428e6799c421989521c0e5077</td>\n",
       "      <td>organic_search</td>\n",
       "    </tr>\n",
       "    <tr>\n",
       "      <th>freq</th>\n",
       "      <td>1</td>\n",
       "      <td>93</td>\n",
       "      <td>912</td>\n",
       "      <td>2296</td>\n",
       "    </tr>\n",
       "  </tbody>\n",
       "</table>\n",
       "</div>"
      ],
      "text/plain": [
       "                                  mql_id first_contact_date  \\\n",
       "count                               8000               8000   \n",
       "unique                              8000                336   \n",
       "top     524e7d08e755cc664226b3d4b8660cd7         2018-05-02   \n",
       "freq                                   1                 93   \n",
       "\n",
       "                         landing_page_id          origin  \n",
       "count                               8000            7940  \n",
       "unique                               495              10  \n",
       "top     b76ef37428e6799c421989521c0e5077  organic_search  \n",
       "freq                                 912            2296  "
      ]
     },
     "execution_count": 536,
     "metadata": {},
     "output_type": "execute_result"
    }
   ],
   "source": [
    "leads.describe(include=\"all\")"
   ]
  },
  {
   "cell_type": "code",
   "execution_count": 537,
   "metadata": {
    "collapsed": false
   },
   "outputs": [
    {
     "data": {
      "text/plain": [
       "organic_search       2296\n",
       "paid_search          1586\n",
       "social               1350\n",
       "unknown              1099\n",
       "direct_traffic        499\n",
       "email                 493\n",
       "referral              284\n",
       "other                 150\n",
       "display               118\n",
       "other_publicities      65\n",
       "Name: origin, dtype: int64"
      ]
     },
     "execution_count": 537,
     "metadata": {},
     "output_type": "execute_result"
    }
   ],
   "source": [
    "leads.origin.value_counts()"
   ]
  },
  {
   "cell_type": "code",
   "execution_count": 538,
   "metadata": {
    "collapsed": false
   },
   "outputs": [],
   "source": [
    "leads['origin'] = leads['origin'].fillna('unknown')"
   ]
  },
  {
   "cell_type": "code",
   "execution_count": 539,
   "metadata": {
    "collapsed": false
   },
   "outputs": [
    {
     "data": {
      "text/plain": [
       "mql_id                0\n",
       "first_contact_date    0\n",
       "landing_page_id       0\n",
       "origin                0\n",
       "dtype: int64"
      ]
     },
     "execution_count": 539,
     "metadata": {},
     "output_type": "execute_result"
    }
   ],
   "source": [
    "leads.isnull().sum(axis=0)"
   ]
  },
  {
   "cell_type": "code",
   "execution_count": 540,
   "metadata": {
    "collapsed": false
   },
   "outputs": [
    {
     "data": {
      "text/html": [
       "<div>\n",
       "<style scoped>\n",
       "    .dataframe tbody tr th:only-of-type {\n",
       "        vertical-align: middle;\n",
       "    }\n",
       "\n",
       "    .dataframe tbody tr th {\n",
       "        vertical-align: top;\n",
       "    }\n",
       "\n",
       "    .dataframe thead th {\n",
       "        text-align: right;\n",
       "    }\n",
       "</style>\n",
       "<table border=\"1\" class=\"dataframe\">\n",
       "  <thead>\n",
       "    <tr style=\"text-align: right;\">\n",
       "      <th></th>\n",
       "      <th>mql_id</th>\n",
       "      <th>first_contact_date</th>\n",
       "      <th>landing_page_id</th>\n",
       "      <th>origin</th>\n",
       "    </tr>\n",
       "  </thead>\n",
       "  <tbody>\n",
       "    <tr>\n",
       "      <th>count</th>\n",
       "      <td>8000</td>\n",
       "      <td>8000</td>\n",
       "      <td>8000</td>\n",
       "      <td>8000</td>\n",
       "    </tr>\n",
       "    <tr>\n",
       "      <th>unique</th>\n",
       "      <td>8000</td>\n",
       "      <td>336</td>\n",
       "      <td>495</td>\n",
       "      <td>10</td>\n",
       "    </tr>\n",
       "    <tr>\n",
       "      <th>top</th>\n",
       "      <td>524e7d08e755cc664226b3d4b8660cd7</td>\n",
       "      <td>2018-05-02</td>\n",
       "      <td>b76ef37428e6799c421989521c0e5077</td>\n",
       "      <td>organic_search</td>\n",
       "    </tr>\n",
       "    <tr>\n",
       "      <th>freq</th>\n",
       "      <td>1</td>\n",
       "      <td>93</td>\n",
       "      <td>912</td>\n",
       "      <td>2296</td>\n",
       "    </tr>\n",
       "  </tbody>\n",
       "</table>\n",
       "</div>"
      ],
      "text/plain": [
       "                                  mql_id first_contact_date  \\\n",
       "count                               8000               8000   \n",
       "unique                              8000                336   \n",
       "top     524e7d08e755cc664226b3d4b8660cd7         2018-05-02   \n",
       "freq                                   1                 93   \n",
       "\n",
       "                         landing_page_id          origin  \n",
       "count                               8000            8000  \n",
       "unique                               495              10  \n",
       "top     b76ef37428e6799c421989521c0e5077  organic_search  \n",
       "freq                                 912            2296  "
      ]
     },
     "execution_count": 540,
     "metadata": {},
     "output_type": "execute_result"
    }
   ],
   "source": [
    "leads.describe(include=\"all\")"
   ]
  },
  {
   "cell_type": "code",
   "execution_count": 541,
   "metadata": {
    "collapsed": false
   },
   "outputs": [],
   "source": [
    "leads[\"first_contact_date\"] = leads[\"first_contact_date\"].astype(\"datetime64\")"
   ]
  },
  {
   "cell_type": "code",
   "execution_count": 542,
   "metadata": {
    "collapsed": false
   },
   "outputs": [
    {
     "data": {
      "text/html": [
       "<div>\n",
       "<style scoped>\n",
       "    .dataframe tbody tr th:only-of-type {\n",
       "        vertical-align: middle;\n",
       "    }\n",
       "\n",
       "    .dataframe tbody tr th {\n",
       "        vertical-align: top;\n",
       "    }\n",
       "\n",
       "    .dataframe thead th {\n",
       "        text-align: right;\n",
       "    }\n",
       "</style>\n",
       "<table border=\"1\" class=\"dataframe\">\n",
       "  <thead>\n",
       "    <tr style=\"text-align: right;\">\n",
       "      <th></th>\n",
       "      <th>mql_id</th>\n",
       "      <th>first_contact_date</th>\n",
       "      <th>landing_page_id</th>\n",
       "      <th>origin</th>\n",
       "    </tr>\n",
       "  </thead>\n",
       "  <tbody>\n",
       "    <tr>\n",
       "      <th>0</th>\n",
       "      <td>dac32acd4db4c29c230538b72f8dd87d</td>\n",
       "      <td>2018-02</td>\n",
       "      <td>88740e65d5d6b056e0cda098e1ea6313</td>\n",
       "      <td>social</td>\n",
       "    </tr>\n",
       "    <tr>\n",
       "      <th>1</th>\n",
       "      <td>8c18d1de7f67e60dbd64e3c07d7e9d5d</td>\n",
       "      <td>2017-10</td>\n",
       "      <td>007f9098284a86ee80ddeb25d53e0af8</td>\n",
       "      <td>paid_search</td>\n",
       "    </tr>\n",
       "    <tr>\n",
       "      <th>2</th>\n",
       "      <td>b4bc852d233dfefc5131f593b538befa</td>\n",
       "      <td>2018-03</td>\n",
       "      <td>a7982125ff7aa3b2054c6e44f9d28522</td>\n",
       "      <td>organic_search</td>\n",
       "    </tr>\n",
       "    <tr>\n",
       "      <th>3</th>\n",
       "      <td>6be030b81c75970747525b843c1ef4f8</td>\n",
       "      <td>2018-01</td>\n",
       "      <td>d45d558f0daeecf3cccdffe3c59684aa</td>\n",
       "      <td>email</td>\n",
       "    </tr>\n",
       "    <tr>\n",
       "      <th>4</th>\n",
       "      <td>5420aad7fec3549a85876ba1c529bd84</td>\n",
       "      <td>2018-02</td>\n",
       "      <td>b48ec5f3b04e9068441002a19df93c6c</td>\n",
       "      <td>organic_search</td>\n",
       "    </tr>\n",
       "  </tbody>\n",
       "</table>\n",
       "</div>"
      ],
      "text/plain": [
       "                             mql_id first_contact_date  \\\n",
       "0  dac32acd4db4c29c230538b72f8dd87d            2018-02   \n",
       "1  8c18d1de7f67e60dbd64e3c07d7e9d5d            2017-10   \n",
       "2  b4bc852d233dfefc5131f593b538befa            2018-03   \n",
       "3  6be030b81c75970747525b843c1ef4f8            2018-01   \n",
       "4  5420aad7fec3549a85876ba1c529bd84            2018-02   \n",
       "\n",
       "                    landing_page_id          origin  \n",
       "0  88740e65d5d6b056e0cda098e1ea6313          social  \n",
       "1  007f9098284a86ee80ddeb25d53e0af8     paid_search  \n",
       "2  a7982125ff7aa3b2054c6e44f9d28522  organic_search  \n",
       "3  d45d558f0daeecf3cccdffe3c59684aa           email  \n",
       "4  b48ec5f3b04e9068441002a19df93c6c  organic_search  "
      ]
     },
     "execution_count": 542,
     "metadata": {},
     "output_type": "execute_result"
    }
   ],
   "source": [
    "leads['first_contact_date'] = leads['first_contact_date'].dt.to_period('M')\n",
    "leads.head()"
   ]
  },
  {
   "cell_type": "code",
   "execution_count": 543,
   "metadata": {
    "collapsed": false
   },
   "outputs": [
    {
     "data": {
      "text/html": [
       "<div>\n",
       "<style scoped>\n",
       "    .dataframe tbody tr th:only-of-type {\n",
       "        vertical-align: middle;\n",
       "    }\n",
       "\n",
       "    .dataframe tbody tr th {\n",
       "        vertical-align: top;\n",
       "    }\n",
       "\n",
       "    .dataframe thead th {\n",
       "        text-align: right;\n",
       "    }\n",
       "</style>\n",
       "<table border=\"1\" class=\"dataframe\">\n",
       "  <thead>\n",
       "    <tr style=\"text-align: right;\">\n",
       "      <th></th>\n",
       "      <th>mql_id</th>\n",
       "      <th>seller_id</th>\n",
       "      <th>sdr_id</th>\n",
       "      <th>sr_id</th>\n",
       "      <th>won_date</th>\n",
       "      <th>business_segment</th>\n",
       "      <th>lead_type</th>\n",
       "      <th>lead_behaviour_profile</th>\n",
       "      <th>has_company</th>\n",
       "      <th>has_gtin</th>\n",
       "      <th>average_stock</th>\n",
       "      <th>business_type</th>\n",
       "      <th>declared_product_catalog_size</th>\n",
       "      <th>declared_monthly_revenue</th>\n",
       "    </tr>\n",
       "  </thead>\n",
       "  <tbody>\n",
       "    <tr>\n",
       "      <th>0</th>\n",
       "      <td>5420aad7fec3549a85876ba1c529bd84</td>\n",
       "      <td>2c43fb513632d29b3b58df74816f1b06</td>\n",
       "      <td>a8387c01a09e99ce014107505b92388c</td>\n",
       "      <td>4ef15afb4b2723d8f3d81e51ec7afefe</td>\n",
       "      <td>2018-02-26 19:58:54</td>\n",
       "      <td>pet</td>\n",
       "      <td>online_medium</td>\n",
       "      <td>cat</td>\n",
       "      <td>NaN</td>\n",
       "      <td>NaN</td>\n",
       "      <td>NaN</td>\n",
       "      <td>reseller</td>\n",
       "      <td>nan</td>\n",
       "      <td>0.0</td>\n",
       "    </tr>\n",
       "    <tr>\n",
       "      <th>1</th>\n",
       "      <td>a555fb36b9368110ede0f043dfc3b9a0</td>\n",
       "      <td>bbb7d7893a450660432ea6652310ebb7</td>\n",
       "      <td>09285259593c61296eef10c734121d5b</td>\n",
       "      <td>d3d1e91a157ea7f90548eef82f1955e3</td>\n",
       "      <td>2018-05-08 20:17:59</td>\n",
       "      <td>car_accessories</td>\n",
       "      <td>industry</td>\n",
       "      <td>eagle</td>\n",
       "      <td>NaN</td>\n",
       "      <td>NaN</td>\n",
       "      <td>NaN</td>\n",
       "      <td>reseller</td>\n",
       "      <td>nan</td>\n",
       "      <td>0.0</td>\n",
       "    </tr>\n",
       "    <tr>\n",
       "      <th>2</th>\n",
       "      <td>327174d3648a2d047e8940d7d15204ca</td>\n",
       "      <td>612170e34b97004b3ba37eae81836b4c</td>\n",
       "      <td>b90f87164b5f8c2cfa5c8572834dbe3f</td>\n",
       "      <td>6565aa9ce3178a5caf6171827af3a9ba</td>\n",
       "      <td>2018-06-05 17:27:23</td>\n",
       "      <td>home_appliances</td>\n",
       "      <td>online_big</td>\n",
       "      <td>cat</td>\n",
       "      <td>NaN</td>\n",
       "      <td>NaN</td>\n",
       "      <td>NaN</td>\n",
       "      <td>reseller</td>\n",
       "      <td>nan</td>\n",
       "      <td>0.0</td>\n",
       "    </tr>\n",
       "    <tr>\n",
       "      <th>3</th>\n",
       "      <td>f5fee8f7da74f4887f5bcae2bafb6dd6</td>\n",
       "      <td>21e1781e36faf92725dde4730a88ca0f</td>\n",
       "      <td>56bf83c4bb35763a51c2baab501b4c67</td>\n",
       "      <td>d3d1e91a157ea7f90548eef82f1955e3</td>\n",
       "      <td>2018-01-17 13:51:03</td>\n",
       "      <td>food_drink</td>\n",
       "      <td>online_small</td>\n",
       "      <td>NaN</td>\n",
       "      <td>NaN</td>\n",
       "      <td>NaN</td>\n",
       "      <td>NaN</td>\n",
       "      <td>reseller</td>\n",
       "      <td>nan</td>\n",
       "      <td>0.0</td>\n",
       "    </tr>\n",
       "    <tr>\n",
       "      <th>4</th>\n",
       "      <td>ffe640179b554e295c167a2f6be528e0</td>\n",
       "      <td>ed8cb7b190ceb6067227478e48cf8dde</td>\n",
       "      <td>4b339f9567d060bcea4f5136b9f5949e</td>\n",
       "      <td>d3d1e91a157ea7f90548eef82f1955e3</td>\n",
       "      <td>2018-07-03 20:17:45</td>\n",
       "      <td>home_appliances</td>\n",
       "      <td>industry</td>\n",
       "      <td>wolf</td>\n",
       "      <td>NaN</td>\n",
       "      <td>NaN</td>\n",
       "      <td>NaN</td>\n",
       "      <td>manufacturer</td>\n",
       "      <td>nan</td>\n",
       "      <td>0.0</td>\n",
       "    </tr>\n",
       "  </tbody>\n",
       "</table>\n",
       "</div>"
      ],
      "text/plain": [
       "                             mql_id                         seller_id  \\\n",
       "0  5420aad7fec3549a85876ba1c529bd84  2c43fb513632d29b3b58df74816f1b06   \n",
       "1  a555fb36b9368110ede0f043dfc3b9a0  bbb7d7893a450660432ea6652310ebb7   \n",
       "2  327174d3648a2d047e8940d7d15204ca  612170e34b97004b3ba37eae81836b4c   \n",
       "3  f5fee8f7da74f4887f5bcae2bafb6dd6  21e1781e36faf92725dde4730a88ca0f   \n",
       "4  ffe640179b554e295c167a2f6be528e0  ed8cb7b190ceb6067227478e48cf8dde   \n",
       "\n",
       "                             sdr_id                             sr_id  \\\n",
       "0  a8387c01a09e99ce014107505b92388c  4ef15afb4b2723d8f3d81e51ec7afefe   \n",
       "1  09285259593c61296eef10c734121d5b  d3d1e91a157ea7f90548eef82f1955e3   \n",
       "2  b90f87164b5f8c2cfa5c8572834dbe3f  6565aa9ce3178a5caf6171827af3a9ba   \n",
       "3  56bf83c4bb35763a51c2baab501b4c67  d3d1e91a157ea7f90548eef82f1955e3   \n",
       "4  4b339f9567d060bcea4f5136b9f5949e  d3d1e91a157ea7f90548eef82f1955e3   \n",
       "\n",
       "              won_date business_segment      lead_type lead_behaviour_profile  \\\n",
       "0  2018-02-26 19:58:54              pet  online_medium                    cat   \n",
       "1  2018-05-08 20:17:59  car_accessories       industry                  eagle   \n",
       "2  2018-06-05 17:27:23  home_appliances     online_big                    cat   \n",
       "3  2018-01-17 13:51:03       food_drink   online_small                    NaN   \n",
       "4  2018-07-03 20:17:45  home_appliances       industry                   wolf   \n",
       "\n",
       "  has_company has_gtin average_stock business_type  \\\n",
       "0         NaN      NaN           NaN      reseller   \n",
       "1         NaN      NaN           NaN      reseller   \n",
       "2         NaN      NaN           NaN      reseller   \n",
       "3         NaN      NaN           NaN      reseller   \n",
       "4         NaN      NaN           NaN  manufacturer   \n",
       "\n",
       "   declared_product_catalog_size  declared_monthly_revenue  \n",
       "0                            nan                       0.0  \n",
       "1                            nan                       0.0  \n",
       "2                            nan                       0.0  \n",
       "3                            nan                       0.0  \n",
       "4                            nan                       0.0  "
      ]
     },
     "execution_count": 543,
     "metadata": {},
     "output_type": "execute_result"
    }
   ],
   "source": [
    "closed = pd.read_csv('datasets_78342_179673_olist_closed_deals_dataset.csv')\n",
    "closed.head()"
   ]
  },
  {
   "cell_type": "code",
   "execution_count": 544,
   "metadata": {
    "collapsed": false
   },
   "outputs": [
    {
     "data": {
      "text/html": [
       "<div>\n",
       "<style scoped>\n",
       "    .dataframe tbody tr th:only-of-type {\n",
       "        vertical-align: middle;\n",
       "    }\n",
       "\n",
       "    .dataframe tbody tr th {\n",
       "        vertical-align: top;\n",
       "    }\n",
       "\n",
       "    .dataframe thead th {\n",
       "        text-align: right;\n",
       "    }\n",
       "</style>\n",
       "<table border=\"1\" class=\"dataframe\">\n",
       "  <thead>\n",
       "    <tr style=\"text-align: right;\">\n",
       "      <th></th>\n",
       "      <th>mql_id</th>\n",
       "      <th>seller_id</th>\n",
       "      <th>sdr_id</th>\n",
       "      <th>sr_id</th>\n",
       "      <th>won_date</th>\n",
       "      <th>business_segment</th>\n",
       "      <th>lead_type</th>\n",
       "      <th>lead_behaviour_profile</th>\n",
       "      <th>has_company</th>\n",
       "      <th>has_gtin</th>\n",
       "      <th>average_stock</th>\n",
       "      <th>business_type</th>\n",
       "      <th>declared_product_catalog_size</th>\n",
       "      <th>declared_monthly_revenue</th>\n",
       "    </tr>\n",
       "  </thead>\n",
       "  <tbody>\n",
       "    <tr>\n",
       "      <th>count</th>\n",
       "      <td>842</td>\n",
       "      <td>842</td>\n",
       "      <td>842</td>\n",
       "      <td>842</td>\n",
       "      <td>842</td>\n",
       "      <td>841</td>\n",
       "      <td>836</td>\n",
       "      <td>665</td>\n",
       "      <td>63</td>\n",
       "      <td>64</td>\n",
       "      <td>66</td>\n",
       "      <td>832</td>\n",
       "      <td>69.0</td>\n",
       "      <td>842.0</td>\n",
       "    </tr>\n",
       "    <tr>\n",
       "      <th>unique</th>\n",
       "      <td>842</td>\n",
       "      <td>842</td>\n",
       "      <td>32</td>\n",
       "      <td>22</td>\n",
       "      <td>824</td>\n",
       "      <td>33</td>\n",
       "      <td>8</td>\n",
       "      <td>9</td>\n",
       "      <td>2</td>\n",
       "      <td>2</td>\n",
       "      <td>6</td>\n",
       "      <td>3</td>\n",
       "      <td>nan</td>\n",
       "      <td>nan</td>\n",
       "    </tr>\n",
       "    <tr>\n",
       "      <th>top</th>\n",
       "      <td>3cab34e6c6a51d1f2ca8e76908c62368</td>\n",
       "      <td>f1340f6d3347d9fae747fc3d236a2e41</td>\n",
       "      <td>4b339f9567d060bcea4f5136b9f5949e</td>\n",
       "      <td>4ef15afb4b2723d8f3d81e51ec7afefe</td>\n",
       "      <td>2018-05-04 03:00:00</td>\n",
       "      <td>home_decor</td>\n",
       "      <td>online_medium</td>\n",
       "      <td>cat</td>\n",
       "      <td>True</td>\n",
       "      <td>True</td>\n",
       "      <td>5-20</td>\n",
       "      <td>reseller</td>\n",
       "      <td>nan</td>\n",
       "      <td>nan</td>\n",
       "    </tr>\n",
       "    <tr>\n",
       "      <th>freq</th>\n",
       "      <td>1</td>\n",
       "      <td>1</td>\n",
       "      <td>140</td>\n",
       "      <td>133</td>\n",
       "      <td>6</td>\n",
       "      <td>105</td>\n",
       "      <td>332</td>\n",
       "      <td>407</td>\n",
       "      <td>58</td>\n",
       "      <td>54</td>\n",
       "      <td>22</td>\n",
       "      <td>587</td>\n",
       "      <td>nan</td>\n",
       "      <td>nan</td>\n",
       "    </tr>\n",
       "    <tr>\n",
       "      <th>mean</th>\n",
       "      <td>NaN</td>\n",
       "      <td>NaN</td>\n",
       "      <td>NaN</td>\n",
       "      <td>NaN</td>\n",
       "      <td>NaN</td>\n",
       "      <td>NaN</td>\n",
       "      <td>NaN</td>\n",
       "      <td>NaN</td>\n",
       "      <td>NaN</td>\n",
       "      <td>NaN</td>\n",
       "      <td>NaN</td>\n",
       "      <td>NaN</td>\n",
       "      <td>233.02898550724638</td>\n",
       "      <td>73,377.67933491686</td>\n",
       "    </tr>\n",
       "    <tr>\n",
       "      <th>std</th>\n",
       "      <td>NaN</td>\n",
       "      <td>NaN</td>\n",
       "      <td>NaN</td>\n",
       "      <td>NaN</td>\n",
       "      <td>NaN</td>\n",
       "      <td>NaN</td>\n",
       "      <td>NaN</td>\n",
       "      <td>NaN</td>\n",
       "      <td>NaN</td>\n",
       "      <td>NaN</td>\n",
       "      <td>NaN</td>\n",
       "      <td>NaN</td>\n",
       "      <td>352.38055844642514</td>\n",
       "      <td>1,744,799.1768914168</td>\n",
       "    </tr>\n",
       "    <tr>\n",
       "      <th>min</th>\n",
       "      <td>NaN</td>\n",
       "      <td>NaN</td>\n",
       "      <td>NaN</td>\n",
       "      <td>NaN</td>\n",
       "      <td>NaN</td>\n",
       "      <td>NaN</td>\n",
       "      <td>NaN</td>\n",
       "      <td>NaN</td>\n",
       "      <td>NaN</td>\n",
       "      <td>NaN</td>\n",
       "      <td>NaN</td>\n",
       "      <td>NaN</td>\n",
       "      <td>1.0</td>\n",
       "      <td>0.0</td>\n",
       "    </tr>\n",
       "    <tr>\n",
       "      <th>25%</th>\n",
       "      <td>NaN</td>\n",
       "      <td>NaN</td>\n",
       "      <td>NaN</td>\n",
       "      <td>NaN</td>\n",
       "      <td>NaN</td>\n",
       "      <td>NaN</td>\n",
       "      <td>NaN</td>\n",
       "      <td>NaN</td>\n",
       "      <td>NaN</td>\n",
       "      <td>NaN</td>\n",
       "      <td>NaN</td>\n",
       "      <td>NaN</td>\n",
       "      <td>30.0</td>\n",
       "      <td>0.0</td>\n",
       "    </tr>\n",
       "    <tr>\n",
       "      <th>50%</th>\n",
       "      <td>NaN</td>\n",
       "      <td>NaN</td>\n",
       "      <td>NaN</td>\n",
       "      <td>NaN</td>\n",
       "      <td>NaN</td>\n",
       "      <td>NaN</td>\n",
       "      <td>NaN</td>\n",
       "      <td>NaN</td>\n",
       "      <td>NaN</td>\n",
       "      <td>NaN</td>\n",
       "      <td>NaN</td>\n",
       "      <td>NaN</td>\n",
       "      <td>100.0</td>\n",
       "      <td>0.0</td>\n",
       "    </tr>\n",
       "    <tr>\n",
       "      <th>75%</th>\n",
       "      <td>NaN</td>\n",
       "      <td>NaN</td>\n",
       "      <td>NaN</td>\n",
       "      <td>NaN</td>\n",
       "      <td>NaN</td>\n",
       "      <td>NaN</td>\n",
       "      <td>NaN</td>\n",
       "      <td>NaN</td>\n",
       "      <td>NaN</td>\n",
       "      <td>NaN</td>\n",
       "      <td>NaN</td>\n",
       "      <td>NaN</td>\n",
       "      <td>300.0</td>\n",
       "      <td>0.0</td>\n",
       "    </tr>\n",
       "    <tr>\n",
       "      <th>max</th>\n",
       "      <td>NaN</td>\n",
       "      <td>NaN</td>\n",
       "      <td>NaN</td>\n",
       "      <td>NaN</td>\n",
       "      <td>NaN</td>\n",
       "      <td>NaN</td>\n",
       "      <td>NaN</td>\n",
       "      <td>NaN</td>\n",
       "      <td>NaN</td>\n",
       "      <td>NaN</td>\n",
       "      <td>NaN</td>\n",
       "      <td>NaN</td>\n",
       "      <td>2,000.0</td>\n",
       "      <td>50,000,000.0</td>\n",
       "    </tr>\n",
       "  </tbody>\n",
       "</table>\n",
       "</div>"
      ],
      "text/plain": [
       "                                  mql_id                         seller_id  \\\n",
       "count                                842                               842   \n",
       "unique                               842                               842   \n",
       "top     3cab34e6c6a51d1f2ca8e76908c62368  f1340f6d3347d9fae747fc3d236a2e41   \n",
       "freq                                   1                                 1   \n",
       "mean                                 NaN                               NaN   \n",
       "std                                  NaN                               NaN   \n",
       "min                                  NaN                               NaN   \n",
       "25%                                  NaN                               NaN   \n",
       "50%                                  NaN                               NaN   \n",
       "75%                                  NaN                               NaN   \n",
       "max                                  NaN                               NaN   \n",
       "\n",
       "                                  sdr_id                             sr_id  \\\n",
       "count                                842                               842   \n",
       "unique                                32                                22   \n",
       "top     4b339f9567d060bcea4f5136b9f5949e  4ef15afb4b2723d8f3d81e51ec7afefe   \n",
       "freq                                 140                               133   \n",
       "mean                                 NaN                               NaN   \n",
       "std                                  NaN                               NaN   \n",
       "min                                  NaN                               NaN   \n",
       "25%                                  NaN                               NaN   \n",
       "50%                                  NaN                               NaN   \n",
       "75%                                  NaN                               NaN   \n",
       "max                                  NaN                               NaN   \n",
       "\n",
       "                   won_date business_segment      lead_type  \\\n",
       "count                   842              841            836   \n",
       "unique                  824               33              8   \n",
       "top     2018-05-04 03:00:00       home_decor  online_medium   \n",
       "freq                      6              105            332   \n",
       "mean                    NaN              NaN            NaN   \n",
       "std                     NaN              NaN            NaN   \n",
       "min                     NaN              NaN            NaN   \n",
       "25%                     NaN              NaN            NaN   \n",
       "50%                     NaN              NaN            NaN   \n",
       "75%                     NaN              NaN            NaN   \n",
       "max                     NaN              NaN            NaN   \n",
       "\n",
       "       lead_behaviour_profile has_company has_gtin average_stock  \\\n",
       "count                     665          63       64            66   \n",
       "unique                      9           2        2             6   \n",
       "top                       cat        True     True          5-20   \n",
       "freq                      407          58       54            22   \n",
       "mean                      NaN         NaN      NaN           NaN   \n",
       "std                       NaN         NaN      NaN           NaN   \n",
       "min                       NaN         NaN      NaN           NaN   \n",
       "25%                       NaN         NaN      NaN           NaN   \n",
       "50%                       NaN         NaN      NaN           NaN   \n",
       "75%                       NaN         NaN      NaN           NaN   \n",
       "max                       NaN         NaN      NaN           NaN   \n",
       "\n",
       "       business_type  declared_product_catalog_size  declared_monthly_revenue  \n",
       "count            832                           69.0                     842.0  \n",
       "unique             3                            nan                       nan  \n",
       "top         reseller                            nan                       nan  \n",
       "freq             587                            nan                       nan  \n",
       "mean             NaN             233.02898550724638        73,377.67933491686  \n",
       "std              NaN             352.38055844642514      1,744,799.1768914168  \n",
       "min              NaN                            1.0                       0.0  \n",
       "25%              NaN                           30.0                       0.0  \n",
       "50%              NaN                          100.0                       0.0  \n",
       "75%              NaN                          300.0                       0.0  \n",
       "max              NaN                        2,000.0              50,000,000.0  "
      ]
     },
     "execution_count": 544,
     "metadata": {},
     "output_type": "execute_result"
    }
   ],
   "source": [
    "closed.describe(include=\"all\")"
   ]
  },
  {
   "cell_type": "code",
   "execution_count": 545,
   "metadata": {
    "collapsed": false
   },
   "outputs": [
    {
     "data": {
      "text/html": [
       "<div>\n",
       "<style scoped>\n",
       "    .dataframe tbody tr th:only-of-type {\n",
       "        vertical-align: middle;\n",
       "    }\n",
       "\n",
       "    .dataframe tbody tr th {\n",
       "        vertical-align: top;\n",
       "    }\n",
       "\n",
       "    .dataframe thead th {\n",
       "        text-align: right;\n",
       "    }\n",
       "</style>\n",
       "<table border=\"1\" class=\"dataframe\">\n",
       "  <thead>\n",
       "    <tr style=\"text-align: right;\">\n",
       "      <th></th>\n",
       "      <th>mql_id</th>\n",
       "      <th>seller_id</th>\n",
       "    </tr>\n",
       "  </thead>\n",
       "  <tbody>\n",
       "    <tr>\n",
       "      <th>0</th>\n",
       "      <td>5420aad7fec3549a85876ba1c529bd84</td>\n",
       "      <td>2c43fb513632d29b3b58df74816f1b06</td>\n",
       "    </tr>\n",
       "    <tr>\n",
       "      <th>1</th>\n",
       "      <td>a555fb36b9368110ede0f043dfc3b9a0</td>\n",
       "      <td>bbb7d7893a450660432ea6652310ebb7</td>\n",
       "    </tr>\n",
       "    <tr>\n",
       "      <th>2</th>\n",
       "      <td>327174d3648a2d047e8940d7d15204ca</td>\n",
       "      <td>612170e34b97004b3ba37eae81836b4c</td>\n",
       "    </tr>\n",
       "    <tr>\n",
       "      <th>3</th>\n",
       "      <td>f5fee8f7da74f4887f5bcae2bafb6dd6</td>\n",
       "      <td>21e1781e36faf92725dde4730a88ca0f</td>\n",
       "    </tr>\n",
       "    <tr>\n",
       "      <th>4</th>\n",
       "      <td>ffe640179b554e295c167a2f6be528e0</td>\n",
       "      <td>ed8cb7b190ceb6067227478e48cf8dde</td>\n",
       "    </tr>\n",
       "  </tbody>\n",
       "</table>\n",
       "</div>"
      ],
      "text/plain": [
       "                             mql_id                         seller_id\n",
       "0  5420aad7fec3549a85876ba1c529bd84  2c43fb513632d29b3b58df74816f1b06\n",
       "1  a555fb36b9368110ede0f043dfc3b9a0  bbb7d7893a450660432ea6652310ebb7\n",
       "2  327174d3648a2d047e8940d7d15204ca  612170e34b97004b3ba37eae81836b4c\n",
       "3  f5fee8f7da74f4887f5bcae2bafb6dd6  21e1781e36faf92725dde4730a88ca0f\n",
       "4  ffe640179b554e295c167a2f6be528e0  ed8cb7b190ceb6067227478e48cf8dde"
      ]
     },
     "execution_count": 545,
     "metadata": {},
     "output_type": "execute_result"
    }
   ],
   "source": [
    "closed = closed[['mql_id', 'seller_id']]\n",
    "closed.head()"
   ]
  },
  {
   "cell_type": "code",
   "execution_count": 546,
   "metadata": {
    "collapsed": false
   },
   "outputs": [
    {
     "data": {
      "text/html": [
       "<div>\n",
       "<style scoped>\n",
       "    .dataframe tbody tr th:only-of-type {\n",
       "        vertical-align: middle;\n",
       "    }\n",
       "\n",
       "    .dataframe tbody tr th {\n",
       "        vertical-align: top;\n",
       "    }\n",
       "\n",
       "    .dataframe thead th {\n",
       "        text-align: right;\n",
       "    }\n",
       "</style>\n",
       "<table border=\"1\" class=\"dataframe\">\n",
       "  <thead>\n",
       "    <tr style=\"text-align: right;\">\n",
       "      <th></th>\n",
       "      <th>mql_id</th>\n",
       "      <th>first_contact_date</th>\n",
       "      <th>landing_page_id</th>\n",
       "      <th>origin</th>\n",
       "      <th>seller_id</th>\n",
       "    </tr>\n",
       "  </thead>\n",
       "  <tbody>\n",
       "    <tr>\n",
       "      <th>0</th>\n",
       "      <td>dac32acd4db4c29c230538b72f8dd87d</td>\n",
       "      <td>2018-02</td>\n",
       "      <td>88740e65d5d6b056e0cda098e1ea6313</td>\n",
       "      <td>social</td>\n",
       "      <td>NaN</td>\n",
       "    </tr>\n",
       "    <tr>\n",
       "      <th>1</th>\n",
       "      <td>8c18d1de7f67e60dbd64e3c07d7e9d5d</td>\n",
       "      <td>2017-10</td>\n",
       "      <td>007f9098284a86ee80ddeb25d53e0af8</td>\n",
       "      <td>paid_search</td>\n",
       "      <td>NaN</td>\n",
       "    </tr>\n",
       "    <tr>\n",
       "      <th>2</th>\n",
       "      <td>b4bc852d233dfefc5131f593b538befa</td>\n",
       "      <td>2018-03</td>\n",
       "      <td>a7982125ff7aa3b2054c6e44f9d28522</td>\n",
       "      <td>organic_search</td>\n",
       "      <td>NaN</td>\n",
       "    </tr>\n",
       "    <tr>\n",
       "      <th>3</th>\n",
       "      <td>6be030b81c75970747525b843c1ef4f8</td>\n",
       "      <td>2018-01</td>\n",
       "      <td>d45d558f0daeecf3cccdffe3c59684aa</td>\n",
       "      <td>email</td>\n",
       "      <td>NaN</td>\n",
       "    </tr>\n",
       "    <tr>\n",
       "      <th>4</th>\n",
       "      <td>5420aad7fec3549a85876ba1c529bd84</td>\n",
       "      <td>2018-02</td>\n",
       "      <td>b48ec5f3b04e9068441002a19df93c6c</td>\n",
       "      <td>organic_search</td>\n",
       "      <td>2c43fb513632d29b3b58df74816f1b06</td>\n",
       "    </tr>\n",
       "  </tbody>\n",
       "</table>\n",
       "</div>"
      ],
      "text/plain": [
       "                             mql_id first_contact_date  \\\n",
       "0  dac32acd4db4c29c230538b72f8dd87d            2018-02   \n",
       "1  8c18d1de7f67e60dbd64e3c07d7e9d5d            2017-10   \n",
       "2  b4bc852d233dfefc5131f593b538befa            2018-03   \n",
       "3  6be030b81c75970747525b843c1ef4f8            2018-01   \n",
       "4  5420aad7fec3549a85876ba1c529bd84            2018-02   \n",
       "\n",
       "                    landing_page_id          origin  \\\n",
       "0  88740e65d5d6b056e0cda098e1ea6313          social   \n",
       "1  007f9098284a86ee80ddeb25d53e0af8     paid_search   \n",
       "2  a7982125ff7aa3b2054c6e44f9d28522  organic_search   \n",
       "3  d45d558f0daeecf3cccdffe3c59684aa           email   \n",
       "4  b48ec5f3b04e9068441002a19df93c6c  organic_search   \n",
       "\n",
       "                          seller_id  \n",
       "0                               NaN  \n",
       "1                               NaN  \n",
       "2                               NaN  \n",
       "3                               NaN  \n",
       "4  2c43fb513632d29b3b58df74816f1b06  "
      ]
     },
     "execution_count": 546,
     "metadata": {},
     "output_type": "execute_result"
    }
   ],
   "source": [
    "data = pd.merge(leads,\n",
    "                  closed,\n",
    "                  how='left',\n",
    "                  on='mql_id')\n",
    "data.head()"
   ]
  },
  {
   "cell_type": "code",
   "execution_count": 547,
   "metadata": {
    "collapsed": false
   },
   "outputs": [
    {
     "data": {
      "text/html": [
       "<div>\n",
       "<style scoped>\n",
       "    .dataframe tbody tr th:only-of-type {\n",
       "        vertical-align: middle;\n",
       "    }\n",
       "\n",
       "    .dataframe tbody tr th {\n",
       "        vertical-align: top;\n",
       "    }\n",
       "\n",
       "    .dataframe thead th {\n",
       "        text-align: right;\n",
       "    }\n",
       "</style>\n",
       "<table border=\"1\" class=\"dataframe\">\n",
       "  <thead>\n",
       "    <tr style=\"text-align: right;\">\n",
       "      <th></th>\n",
       "      <th>mql_id</th>\n",
       "      <th>first_contact_date</th>\n",
       "      <th>landing_page_id</th>\n",
       "      <th>origin</th>\n",
       "      <th>seller_id</th>\n",
       "    </tr>\n",
       "  </thead>\n",
       "  <tbody>\n",
       "    <tr>\n",
       "      <th>0</th>\n",
       "      <td>dac32acd4db4c29c230538b72f8dd87d</td>\n",
       "      <td>2018-02</td>\n",
       "      <td>88740e65d5d6b056e0cda098e1ea6313</td>\n",
       "      <td>social</td>\n",
       "      <td>0</td>\n",
       "    </tr>\n",
       "    <tr>\n",
       "      <th>1</th>\n",
       "      <td>8c18d1de7f67e60dbd64e3c07d7e9d5d</td>\n",
       "      <td>2017-10</td>\n",
       "      <td>007f9098284a86ee80ddeb25d53e0af8</td>\n",
       "      <td>paid_search</td>\n",
       "      <td>0</td>\n",
       "    </tr>\n",
       "    <tr>\n",
       "      <th>2</th>\n",
       "      <td>b4bc852d233dfefc5131f593b538befa</td>\n",
       "      <td>2018-03</td>\n",
       "      <td>a7982125ff7aa3b2054c6e44f9d28522</td>\n",
       "      <td>organic_search</td>\n",
       "      <td>0</td>\n",
       "    </tr>\n",
       "    <tr>\n",
       "      <th>3</th>\n",
       "      <td>6be030b81c75970747525b843c1ef4f8</td>\n",
       "      <td>2018-01</td>\n",
       "      <td>d45d558f0daeecf3cccdffe3c59684aa</td>\n",
       "      <td>email</td>\n",
       "      <td>0</td>\n",
       "    </tr>\n",
       "    <tr>\n",
       "      <th>4</th>\n",
       "      <td>5420aad7fec3549a85876ba1c529bd84</td>\n",
       "      <td>2018-02</td>\n",
       "      <td>b48ec5f3b04e9068441002a19df93c6c</td>\n",
       "      <td>organic_search</td>\n",
       "      <td>1</td>\n",
       "    </tr>\n",
       "  </tbody>\n",
       "</table>\n",
       "</div>"
      ],
      "text/plain": [
       "                             mql_id first_contact_date  \\\n",
       "0  dac32acd4db4c29c230538b72f8dd87d            2018-02   \n",
       "1  8c18d1de7f67e60dbd64e3c07d7e9d5d            2017-10   \n",
       "2  b4bc852d233dfefc5131f593b538befa            2018-03   \n",
       "3  6be030b81c75970747525b843c1ef4f8            2018-01   \n",
       "4  5420aad7fec3549a85876ba1c529bd84            2018-02   \n",
       "\n",
       "                    landing_page_id          origin  seller_id  \n",
       "0  88740e65d5d6b056e0cda098e1ea6313          social          0  \n",
       "1  007f9098284a86ee80ddeb25d53e0af8     paid_search          0  \n",
       "2  a7982125ff7aa3b2054c6e44f9d28522  organic_search          0  \n",
       "3  d45d558f0daeecf3cccdffe3c59684aa           email          0  \n",
       "4  b48ec5f3b04e9068441002a19df93c6c  organic_search          1  "
      ]
     },
     "execution_count": 547,
     "metadata": {},
     "output_type": "execute_result"
    }
   ],
   "source": [
    "data['seller_id'] = data['seller_id'].fillna(0)\n",
    "data['seller_id'] = data['seller_id'].apply(lambda x: 1 if x else 0)\n",
    "data.head()"
   ]
  },
  {
   "cell_type": "code",
   "execution_count": 548,
   "metadata": {
    "collapsed": false
   },
   "outputs": [
    {
     "data": {
      "text/html": [
       "<div>\n",
       "<style scoped>\n",
       "    .dataframe tbody tr th:only-of-type {\n",
       "        vertical-align: middle;\n",
       "    }\n",
       "\n",
       "    .dataframe tbody tr th {\n",
       "        vertical-align: top;\n",
       "    }\n",
       "\n",
       "    .dataframe thead th {\n",
       "        text-align: right;\n",
       "    }\n",
       "</style>\n",
       "<table border=\"1\" class=\"dataframe\">\n",
       "  <thead>\n",
       "    <tr style=\"text-align: right;\">\n",
       "      <th></th>\n",
       "      <th>count</th>\n",
       "      <th>sum</th>\n",
       "      <th>conversion_rate(%)</th>\n",
       "    </tr>\n",
       "    <tr>\n",
       "      <th>first_contact_date</th>\n",
       "      <th></th>\n",
       "      <th></th>\n",
       "      <th></th>\n",
       "    </tr>\n",
       "  </thead>\n",
       "  <tbody>\n",
       "    <tr>\n",
       "      <th>2017-06</th>\n",
       "      <td>4</td>\n",
       "      <td>0</td>\n",
       "      <td>0.0</td>\n",
       "    </tr>\n",
       "    <tr>\n",
       "      <th>2017-07</th>\n",
       "      <td>239</td>\n",
       "      <td>2</td>\n",
       "      <td>0.8</td>\n",
       "    </tr>\n",
       "    <tr>\n",
       "      <th>2017-08</th>\n",
       "      <td>386</td>\n",
       "      <td>9</td>\n",
       "      <td>2.3</td>\n",
       "    </tr>\n",
       "    <tr>\n",
       "      <th>2017-09</th>\n",
       "      <td>312</td>\n",
       "      <td>7</td>\n",
       "      <td>2.2</td>\n",
       "    </tr>\n",
       "    <tr>\n",
       "      <th>2017-10</th>\n",
       "      <td>416</td>\n",
       "      <td>14</td>\n",
       "      <td>3.4</td>\n",
       "    </tr>\n",
       "    <tr>\n",
       "      <th>2017-11</th>\n",
       "      <td>445</td>\n",
       "      <td>18</td>\n",
       "      <td>4.0</td>\n",
       "    </tr>\n",
       "    <tr>\n",
       "      <th>2017-12</th>\n",
       "      <td>200</td>\n",
       "      <td>11</td>\n",
       "      <td>5.5</td>\n",
       "    </tr>\n",
       "    <tr>\n",
       "      <th>2018-01</th>\n",
       "      <td>1141</td>\n",
       "      <td>152</td>\n",
       "      <td>13.3</td>\n",
       "    </tr>\n",
       "    <tr>\n",
       "      <th>2018-02</th>\n",
       "      <td>1028</td>\n",
       "      <td>149</td>\n",
       "      <td>14.5</td>\n",
       "    </tr>\n",
       "    <tr>\n",
       "      <th>2018-03</th>\n",
       "      <td>1174</td>\n",
       "      <td>167</td>\n",
       "      <td>14.2</td>\n",
       "    </tr>\n",
       "    <tr>\n",
       "      <th>2018-04</th>\n",
       "      <td>1352</td>\n",
       "      <td>183</td>\n",
       "      <td>13.5</td>\n",
       "    </tr>\n",
       "    <tr>\n",
       "      <th>2018-05</th>\n",
       "      <td>1303</td>\n",
       "      <td>130</td>\n",
       "      <td>10.0</td>\n",
       "    </tr>\n",
       "  </tbody>\n",
       "</table>\n",
       "</div>"
      ],
      "text/plain": [
       "                    count  sum  conversion_rate(%)\n",
       "first_contact_date                                \n",
       "2017-06                 4    0                 0.0\n",
       "2017-07               239    2                 0.8\n",
       "2017-08               386    9                 2.3\n",
       "2017-09               312    7                 2.2\n",
       "2017-10               416   14                 3.4\n",
       "2017-11               445   18                 4.0\n",
       "2017-12               200   11                 5.5\n",
       "2018-01              1141  152                13.3\n",
       "2018-02              1028  149                14.5\n",
       "2018-03              1174  167                14.2\n",
       "2018-04              1352  183                13.5\n",
       "2018-05              1303  130                10.0"
      ]
     },
     "execution_count": 548,
     "metadata": {},
     "output_type": "execute_result"
    }
   ],
   "source": [
    "monthly_conversion = data.groupby(by='first_contact_date')['seller_id'].agg(['count', 'sum'])\n",
    "monthly_conversion['conversion_rate(%)'] = ((monthly_conversion['sum'] / monthly_conversion['count']) * 100).round(1)\n",
    "monthly_conversion"
   ]
  },
  {
   "cell_type": "code",
   "execution_count": 549,
   "metadata": {
    "collapsed": false
   },
   "outputs": [
    {
     "data": {
      "text/plain": [
       "Text(0.5, 1.0, 'Conversion Rate (Jun 2017 - May 2018)')"
      ]
     },
     "execution_count": 549,
     "metadata": {},
     "output_type": "execute_result"
    },
    {
     "data": {
      "image/png": "[encoded data removed]",
      "text/plain": [
       "<Figure size 864x432 with 1 Axes>"
      ]
     },
     "metadata": {},
     "output_type": "display_data"
    }
   ],
   "source": [
    "# Plot the monthly conversion rate\n",
    "monthly_conversion['conversion_rate(%)'].plot.line(figsize=(12, 6))\n",
    "plt.title('Conversion Rate (Jun 2017 - May 2018)', fontsize=14)"
   ]
  },
  {
   "cell_type": "markdown",
   "metadata": {},
   "source": [
    "### There is no seasonality is converion. Company is improving lead generation and conversion over time. Hence contact date is not useful to predict if lead will get converted. "
   ]
  },
  {
   "cell_type": "code",
   "execution_count": 550,
   "metadata": {
    "collapsed": false
   },
   "outputs": [
    {
     "data": {
      "text/html": [
       "<div>\n",
       "<style scoped>\n",
       "    .dataframe tbody tr th:only-of-type {\n",
       "        vertical-align: middle;\n",
       "    }\n",
       "\n",
       "    .dataframe tbody tr th {\n",
       "        vertical-align: top;\n",
       "    }\n",
       "\n",
       "    .dataframe thead th {\n",
       "        text-align: right;\n",
       "    }\n",
       "</style>\n",
       "<table border=\"1\" class=\"dataframe\">\n",
       "  <thead>\n",
       "    <tr style=\"text-align: right;\">\n",
       "      <th></th>\n",
       "      <th>mql_id</th>\n",
       "      <th>landing_page_id</th>\n",
       "      <th>origin</th>\n",
       "      <th>seller_id</th>\n",
       "    </tr>\n",
       "  </thead>\n",
       "  <tbody>\n",
       "    <tr>\n",
       "      <th>0</th>\n",
       "      <td>dac32acd4db4c29c230538b72f8dd87d</td>\n",
       "      <td>88740e65d5d6b056e0cda098e1ea6313</td>\n",
       "      <td>social</td>\n",
       "      <td>0</td>\n",
       "    </tr>\n",
       "    <tr>\n",
       "      <th>1</th>\n",
       "      <td>8c18d1de7f67e60dbd64e3c07d7e9d5d</td>\n",
       "      <td>007f9098284a86ee80ddeb25d53e0af8</td>\n",
       "      <td>paid_search</td>\n",
       "      <td>0</td>\n",
       "    </tr>\n",
       "    <tr>\n",
       "      <th>2</th>\n",
       "      <td>b4bc852d233dfefc5131f593b538befa</td>\n",
       "      <td>a7982125ff7aa3b2054c6e44f9d28522</td>\n",
       "      <td>organic_search</td>\n",
       "      <td>0</td>\n",
       "    </tr>\n",
       "    <tr>\n",
       "      <th>3</th>\n",
       "      <td>6be030b81c75970747525b843c1ef4f8</td>\n",
       "      <td>d45d558f0daeecf3cccdffe3c59684aa</td>\n",
       "      <td>email</td>\n",
       "      <td>0</td>\n",
       "    </tr>\n",
       "    <tr>\n",
       "      <th>4</th>\n",
       "      <td>5420aad7fec3549a85876ba1c529bd84</td>\n",
       "      <td>b48ec5f3b04e9068441002a19df93c6c</td>\n",
       "      <td>organic_search</td>\n",
       "      <td>1</td>\n",
       "    </tr>\n",
       "  </tbody>\n",
       "</table>\n",
       "</div>"
      ],
      "text/plain": [
       "                             mql_id                   landing_page_id  \\\n",
       "0  dac32acd4db4c29c230538b72f8dd87d  88740e65d5d6b056e0cda098e1ea6313   \n",
       "1  8c18d1de7f67e60dbd64e3c07d7e9d5d  007f9098284a86ee80ddeb25d53e0af8   \n",
       "2  b4bc852d233dfefc5131f593b538befa  a7982125ff7aa3b2054c6e44f9d28522   \n",
       "3  6be030b81c75970747525b843c1ef4f8  d45d558f0daeecf3cccdffe3c59684aa   \n",
       "4  5420aad7fec3549a85876ba1c529bd84  b48ec5f3b04e9068441002a19df93c6c   \n",
       "\n",
       "           origin  seller_id  \n",
       "0          social          0  \n",
       "1     paid_search          0  \n",
       "2  organic_search          0  \n",
       "3           email          0  \n",
       "4  organic_search          1  "
      ]
     },
     "execution_count": 550,
     "metadata": {},
     "output_type": "execute_result"
    }
   ],
   "source": [
    "data.drop('first_contact_date', axis=1, inplace = True)\n",
    "data.head()"
   ]
  },
  {
   "cell_type": "code",
   "execution_count": 551,
   "metadata": {
    "collapsed": false
   },
   "outputs": [],
   "source": [
    "dist = data.groupby(['landing_page_id', 'origin'],  as_index=False).mql_id.count()\n",
    "dist.to_csv (r'train_distribution.csv', index = False, header=True)"
   ]
  },
  {
   "cell_type": "code",
   "execution_count": 559,
   "metadata": {
    "collapsed": false
   },
   "outputs": [],
   "source": [
    "landing_page_id_list = pd.DataFrame(data.landing_page_id.unique())\n",
    "landing_page_id_list.to_csv (r'landing_page_id_list.csv', index = False, header=True)"
   ]
  },
  {
   "cell_type": "code",
   "execution_count": 561,
   "metadata": {
    "collapsed": false
   },
   "outputs": [],
   "source": [
    "origin_list = pd.DataFrame(data.origin.unique())\n",
    "origin_list.to_csv (r'origin_list.csv', index = False, header=True)"
   ]
  },
  {
   "cell_type": "markdown",
   "metadata": {},
   "source": [
    "### MLflow setup"
   ]
  },
  {
   "cell_type": "code",
   "execution_count": 492,
   "metadata": {
    "collapsed": false
   },
   "outputs": [
    {
     "data": {
      "text/html": [
       "<div>\n",
       "<style scoped>\n",
       "    .dataframe tbody tr th:only-of-type {\n",
       "        vertical-align: middle;\n",
       "    }\n",
       "\n",
       "    .dataframe tbody tr th {\n",
       "        vertical-align: top;\n",
       "    }\n",
       "\n",
       "    .dataframe thead th {\n",
       "        text-align: right;\n",
       "    }\n",
       "</style>\n",
       "<table border=\"1\" class=\"dataframe\">\n",
       "  <thead>\n",
       "    <tr style=\"text-align: right;\">\n",
       "      <th></th>\n",
       "      <th>mql_id</th>\n",
       "      <th>landing_page_id</th>\n",
       "      <th>origin</th>\n",
       "      <th>seller_id</th>\n",
       "    </tr>\n",
       "  </thead>\n",
       "  <tbody>\n",
       "    <tr>\n",
       "      <th>0</th>\n",
       "      <td>dac32acd4db4c29c230538b72f8dd87d</td>\n",
       "      <td>262</td>\n",
       "      <td>8</td>\n",
       "      <td>0</td>\n",
       "    </tr>\n",
       "    <tr>\n",
       "      <th>1</th>\n",
       "      <td>8c18d1de7f67e60dbd64e3c07d7e9d5d</td>\n",
       "      <td>0</td>\n",
       "      <td>6</td>\n",
       "      <td>0</td>\n",
       "    </tr>\n",
       "    <tr>\n",
       "      <th>2</th>\n",
       "      <td>b4bc852d233dfefc5131f593b538befa</td>\n",
       "      <td>321</td>\n",
       "      <td>3</td>\n",
       "      <td>0</td>\n",
       "    </tr>\n",
       "    <tr>\n",
       "      <th>3</th>\n",
       "      <td>6be030b81c75970747525b843c1ef4f8</td>\n",
       "      <td>407</td>\n",
       "      <td>2</td>\n",
       "      <td>0</td>\n",
       "    </tr>\n",
       "    <tr>\n",
       "      <th>4</th>\n",
       "      <td>5420aad7fec3549a85876ba1c529bd84</td>\n",
       "      <td>345</td>\n",
       "      <td>3</td>\n",
       "      <td>1</td>\n",
       "    </tr>\n",
       "  </tbody>\n",
       "</table>\n",
       "</div>"
      ],
      "text/plain": [
       "                             mql_id  landing_page_id  origin  seller_id\n",
       "0  dac32acd4db4c29c230538b72f8dd87d              262       8          0\n",
       "1  8c18d1de7f67e60dbd64e3c07d7e9d5d                0       6          0\n",
       "2  b4bc852d233dfefc5131f593b538befa              321       3          0\n",
       "3  6be030b81c75970747525b843c1ef4f8              407       2          0\n",
       "4  5420aad7fec3549a85876ba1c529bd84              345       3          1"
      ]
     },
     "execution_count": 492,
     "metadata": {},
     "output_type": "execute_result"
    }
   ],
   "source": [
    "with mlflow.start_run():\n",
    "    encoder_landing_page_id = preprocessing.LabelEncoder()\n",
    "    encoder_landing_page_id.fit(data['landing_page_id'])\n",
    "    data['landing_page_id'] = encoder_landing_page_id.transform(data['landing_page_id'])\n",
    "\n",
    "    encoder_origin = preprocessing.LabelEncoder()\n",
    "    encoder_origin.fit(data['origin'])\n",
    "    data['origin'] = encoder_origin.transform(data['origin'])\n",
    "    \n",
    "    # Log encoder model to MLflow    \n",
    "    mlflow.set_tag('Stage', 'Data preporcessing') \n",
    "    mlflow.sklearn.log_model(encoder_landing_page_id, \"encoder_landing_page_id\")\n",
    "    mlflow.sklearn.log_model(encoder_origin, \"encoder_origin\")\n",
    "\n",
    "data.head()"
   ]
  },
  {
   "cell_type": "code",
   "execution_count": 521,
   "metadata": {
    "collapsed": false
   },
   "outputs": [
    {
     "data": {
      "text/plain": [
       "array([8])"
      ]
     },
     "execution_count": 521,
     "metadata": {},
     "output_type": "execute_result"
    }
   ],
   "source": [
    "encoder_origin.transform(pd.DataFrame(['social']))"
   ]
  },
  {
   "cell_type": "code",
   "execution_count": 493,
   "metadata": {
    "collapsed": false
   },
   "outputs": [],
   "source": [
    "X = data[['landing_page_id', 'origin']]\n",
    "y = data['seller_id']"
   ]
  },
  {
   "cell_type": "code",
   "execution_count": 494,
   "metadata": {
    "collapsed": false
   },
   "outputs": [
    {
     "data": {
      "text/html": [
       "<div>\n",
       "<style scoped>\n",
       "    .dataframe tbody tr th:only-of-type {\n",
       "        vertical-align: middle;\n",
       "    }\n",
       "\n",
       "    .dataframe tbody tr th {\n",
       "        vertical-align: top;\n",
       "    }\n",
       "\n",
       "    .dataframe thead th {\n",
       "        text-align: right;\n",
       "    }\n",
       "</style>\n",
       "<table border=\"1\" class=\"dataframe\">\n",
       "  <thead>\n",
       "    <tr style=\"text-align: right;\">\n",
       "      <th></th>\n",
       "      <th>landing_page_id</th>\n",
       "      <th>origin</th>\n",
       "    </tr>\n",
       "  </thead>\n",
       "  <tbody>\n",
       "    <tr>\n",
       "      <th>0</th>\n",
       "      <td>262</td>\n",
       "      <td>8</td>\n",
       "    </tr>\n",
       "    <tr>\n",
       "      <th>1</th>\n",
       "      <td>0</td>\n",
       "      <td>6</td>\n",
       "    </tr>\n",
       "    <tr>\n",
       "      <th>2</th>\n",
       "      <td>321</td>\n",
       "      <td>3</td>\n",
       "    </tr>\n",
       "    <tr>\n",
       "      <th>3</th>\n",
       "      <td>407</td>\n",
       "      <td>2</td>\n",
       "    </tr>\n",
       "    <tr>\n",
       "      <th>4</th>\n",
       "      <td>345</td>\n",
       "      <td>3</td>\n",
       "    </tr>\n",
       "  </tbody>\n",
       "</table>\n",
       "</div>"
      ],
      "text/plain": [
       "   landing_page_id  origin\n",
       "0              262       8\n",
       "1                0       6\n",
       "2              321       3\n",
       "3              407       2\n",
       "4              345       3"
      ]
     },
     "execution_count": 494,
     "metadata": {},
     "output_type": "execute_result"
    }
   ],
   "source": [
    "X.head()"
   ]
  },
  {
   "cell_type": "code",
   "execution_count": 495,
   "metadata": {
    "collapsed": false
   },
   "outputs": [
    {
     "data": {
      "text/plain": [
       "0    0\n",
       "1    0\n",
       "2    0\n",
       "3    0\n",
       "4    1\n",
       "Name: seller_id, dtype: int64"
      ]
     },
     "execution_count": 495,
     "metadata": {},
     "output_type": "execute_result"
    }
   ],
   "source": [
    "y.head()"
   ]
  },
  {
   "cell_type": "markdown",
   "metadata": {},
   "source": [
    "### 80% train, 20% test"
   ]
  },
  {
   "cell_type": "code",
   "execution_count": 496,
   "metadata": {
    "collapsed": false
   },
   "outputs": [],
   "source": [
    "# Splitting the data into train and validation set\n",
    "X_train, X_test, y_train, y_test = train_test_split(X, y, test_size=0.30, random_state=101)"
   ]
  },
  {
   "cell_type": "code",
   "execution_count": 497,
   "metadata": {
    "collapsed": false
   },
   "outputs": [
    {
     "name": "stdout",
     "output_type": "stream",
     "text": [
      "<class 'pandas.core.frame.DataFrame'>\n",
      "Int64Index: 5600 entries, 4641 to 4959\n",
      "Data columns (total 2 columns):\n",
      "landing_page_id    5600 non-null int64\n",
      "origin             5600 non-null int64\n",
      "dtypes: int64(2)\n",
      "memory usage: 131.2 KB\n",
      "None\n"
     ]
    }
   ],
   "source": [
    "print(X_train.info())\n",
    "X_train.to_csv (r'X_train.csv', index = False, header=True)\n",
    "y_train.to_csv (r'y_train.csv', index = False, header=True)\n",
    "X_test.to_csv (r'X_test.csv', index = False, header=True)\n",
    "y_test.to_csv (r'y_test.csv', index = False, header=True)"
   ]
  },
  {
   "cell_type": "code",
   "execution_count": 498,
   "metadata": {
    "collapsed": false
   },
   "outputs": [
    {
     "name": "stdout",
     "output_type": "stream",
     "text": [
      "<class 'pandas.core.frame.DataFrame'>\n",
      "RangeIndex: 5600 entries, 0 to 5599\n",
      "Data columns (total 2 columns):\n",
      "landing_page_id    5600 non-null int64\n",
      "origin             5600 non-null int64\n",
      "dtypes: int64(2)\n",
      "memory usage: 87.6 KB\n",
      "None\n",
      "<class 'pandas.core.frame.DataFrame'>\n",
      "RangeIndex: 5600 entries, 0 to 5599\n",
      "Data columns (total 1 columns):\n",
      "seller_id    5600 non-null int64\n",
      "dtypes: int64(1)\n",
      "memory usage: 43.8 KB\n",
      "None\n"
     ]
    }
   ],
   "source": [
    "X_train = pd.read_csv('X_train.csv')\n",
    "y_train = pd.read_csv('y_train.csv')\n",
    "X_test = pd.read_csv('X_test.csv')\n",
    "y_test = pd.read_csv('y_test.csv')\n",
    "print(X_train.info())\n",
    "print(y_train.info())"
   ]
  },
  {
   "cell_type": "code",
   "execution_count": 499,
   "metadata": {
    "collapsed": false
   },
   "outputs": [],
   "source": [
    "#print(\"Before OverSampling, counts of label '1': {}\".format(sum(y_train == 1))) \n",
    "#print(\"Before OverSampling, counts of label '0': {} \\n\".format(sum(y_train == 0))) \n",
    "  \n",
    "sm = SMOTE(random_state = 2) \n",
    "X_train_res, y_train_res = sm.fit_sample(X_train, y_train)\n",
    "  \n"
   ]
  },
  {
   "cell_type": "code",
   "execution_count": 500,
   "metadata": {
    "collapsed": false
   },
   "outputs": [
    {
     "name": "stderr",
     "output_type": "stream",
     "text": [
      "//anaconda3/lib/python3.7/site-packages/ipykernel/__main__.py:3: DataConversionWarning: A column-vector y was passed when a 1d array was expected. Please change the shape of y to (n_samples,), for example using ravel().\n",
      "  app.launch_new_instance()\n"
     ]
    },
    {
     "data": {
      "text/plain": [
       "RandomForestClassifier(bootstrap=True, ccp_alpha=0.0, class_weight=None,\n",
       "                       criterion='gini', max_depth=None, max_features='auto',\n",
       "                       max_leaf_nodes=None, max_samples=None,\n",
       "                       min_impurity_decrease=0.0, min_impurity_split=None,\n",
       "                       min_samples_leaf=1, min_samples_split=2,\n",
       "                       min_weight_fraction_leaf=0.0, n_estimators=100,\n",
       "                       n_jobs=None, oob_score=False, random_state=42, verbose=0,\n",
       "                       warm_start=False)"
      ]
     },
     "execution_count": 500,
     "metadata": {},
     "output_type": "execute_result"
    }
   ],
   "source": [
    "# Running the random forest with default parameters.\n",
    "rfc = RandomForestClassifier(random_state=42)\n",
    "rfc.fit(X_train_res,y_train_res)"
   ]
  },
  {
   "cell_type": "code",
   "execution_count": 501,
   "metadata": {
    "collapsed": false
   },
   "outputs": [
    {
     "name": "stdout",
     "output_type": "stream",
     "text": [
      "              precision    recall  f1-score   support\n",
      "\n",
      "           0       0.82      0.67      0.74      5003\n",
      "           1       0.72      0.85      0.78      5003\n",
      "\n",
      "    accuracy                           0.76     10006\n",
      "   macro avg       0.77      0.76      0.76     10006\n",
      "weighted avg       0.77      0.76      0.76     10006\n",
      "\n",
      "              precision    recall  f1-score   support\n",
      "\n",
      "           0       0.94      0.64      0.76      2155\n",
      "           1       0.17      0.67      0.27       245\n",
      "\n",
      "    accuracy                           0.64      2400\n",
      "   macro avg       0.56      0.65      0.52      2400\n",
      "weighted avg       0.86      0.64      0.71      2400\n",
      "\n"
     ]
    }
   ],
   "source": [
    "# Making predictions\n",
    "predictions = rfc.predict(X_train_res)\n",
    "\n",
    "# Let's check the report of our default model\n",
    "print(classification_report(y_train_res,predictions))\n",
    "\n",
    "# Making predictions\n",
    "predictions = rfc.predict(X_test)\n",
    "\n",
    "# Let's check the report of our default model\n",
    "print(classification_report(y_test,predictions))"
   ]
  },
  {
   "cell_type": "code",
   "execution_count": 502,
   "metadata": {
    "collapsed": false
   },
   "outputs": [],
   "source": [
    "# Create the parameter grid based on the results of random search \n",
    "param_grid = {\n",
    "    'min_samples_split': range(2, 10, 2),\n",
    "    'n_estimators': [10, 50, 100]\n",
    "}\n",
    "# Create a based model\n",
    "rf = RandomForestClassifier(random_state=42)\n",
    "# Instantiate the grid search model\n",
    "grid_search = GridSearchCV(estimator = rf, param_grid = param_grid, scoring=\"recall\",\n",
    "                          cv = 3, n_jobs = -1,verbose = 1)"
   ]
  },
  {
   "cell_type": "code",
   "execution_count": 503,
   "metadata": {
    "collapsed": false,
    "scrolled": true
   },
   "outputs": [
    {
     "name": "stdout",
     "output_type": "stream",
     "text": [
      "Fitting 3 folds for each of 12 candidates, totalling 36 fits\n"
     ]
    },
    {
     "name": "stderr",
     "output_type": "stream",
     "text": [
      "[Parallel(n_jobs=-1)]: Using backend LokyBackend with 12 concurrent workers.\n",
      "[Parallel(n_jobs=-1)]: Done  36 out of  36 | elapsed:    3.9s finished\n",
      "//anaconda3/lib/python3.7/site-packages/sklearn/model_selection/_search.py:739: DataConversionWarning: A column-vector y was passed when a 1d array was expected. Please change the shape of y to (n_samples,), for example using ravel().\n",
      "  self.best_estimator_.fit(X, y, **fit_params)\n"
     ]
    },
    {
     "data": {
      "text/plain": [
       "GridSearchCV(cv=3, error_score=nan,\n",
       "             estimator=RandomForestClassifier(bootstrap=True, ccp_alpha=0.0,\n",
       "                                              class_weight=None,\n",
       "                                              criterion='gini', max_depth=None,\n",
       "                                              max_features='auto',\n",
       "                                              max_leaf_nodes=None,\n",
       "                                              max_samples=None,\n",
       "                                              min_impurity_decrease=0.0,\n",
       "                                              min_impurity_split=None,\n",
       "                                              min_samples_leaf=1,\n",
       "                                              min_samples_split=2,\n",
       "                                              min_weight_fraction_leaf=0.0,\n",
       "                                              n_estimators=100, n_jobs=None,\n",
       "                                              oob_score=False, random_state=42,\n",
       "                                              verbose=0, warm_start=False),\n",
       "             iid='deprecated', n_jobs=-1,\n",
       "             param_grid={'min_samples_split': range(2, 10, 2),\n",
       "                         'n_estimators': [10, 50, 100]},\n",
       "             pre_dispatch='2*n_jobs', refit=True, return_train_score=False,\n",
       "             scoring='recall', verbose=1)"
      ]
     },
     "execution_count": 503,
     "metadata": {},
     "output_type": "execute_result"
    }
   ],
   "source": [
    "# Fit the grid search to the data\n",
    "grid_search.fit(X_train_res, y_train_res)"
   ]
  },
  {
   "cell_type": "code",
   "execution_count": 504,
   "metadata": {
    "collapsed": false
   },
   "outputs": [
    {
     "name": "stdout",
     "output_type": "stream",
     "text": [
      "We can get recall of 0.808513477160683 using {'min_samples_split': 2, 'n_estimators': 50}\n"
     ]
    }
   ],
   "source": [
    "# printing the optimal accuracy score and hyperparameters\n",
    "print('We can get recall of',grid_search.best_score_,'using',grid_search.best_params_)\n",
    "\n",
    "with mlflow.start_run():\n",
    "    mlflow.set_tag('Stage', 'Hyperparameter Tuning') \n",
    "    mlflow.log_params(grid_search.best_params_)\n",
    "    mlflow.log_metric(\"recall\", grid_search.best_score_)"
   ]
  },
  {
   "cell_type": "code",
   "execution_count": 505,
   "metadata": {
    "collapsed": false
   },
   "outputs": [
    {
     "name": "stderr",
     "output_type": "stream",
     "text": [
      "//anaconda3/lib/python3.7/site-packages/ipykernel/__main__.py:3: DataConversionWarning: A column-vector y was passed when a 1d array was expected. Please change the shape of y to (n_samples,), for example using ravel().\n",
      "  app.launch_new_instance()\n"
     ]
    },
    {
     "data": {
      "text/plain": [
       "RandomForestClassifier(bootstrap=True, ccp_alpha=0.0, class_weight=None,\n",
       "                       criterion='gini', max_depth=None, max_features='auto',\n",
       "                       max_leaf_nodes=None, max_samples=None,\n",
       "                       min_impurity_decrease=0.0, min_impurity_split=None,\n",
       "                       min_samples_leaf=1, min_samples_split=2,\n",
       "                       min_weight_fraction_leaf=0.0, n_estimators=50,\n",
       "                       n_jobs=None, oob_score=False, random_state=42, verbose=0,\n",
       "                       warm_start=False)"
      ]
     },
     "execution_count": 505,
     "metadata": {},
     "output_type": "execute_result"
    }
   ],
   "source": [
    "rfc = RandomForestClassifier(min_samples_split=2, n_estimators=50, random_state=42)\n",
    "# fit\n",
    "rfc.fit(X_train_res,y_train_res)"
   ]
  },
  {
   "cell_type": "code",
   "execution_count": 506,
   "metadata": {
    "collapsed": false
   },
   "outputs": [
    {
     "name": "stdout",
     "output_type": "stream",
     "text": [
      "              precision    recall  f1-score   support\n",
      "\n",
      "           0       0.94      0.63      0.76      2155\n",
      "           1       0.17      0.66      0.27       245\n",
      "\n",
      "    accuracy                           0.64      2400\n",
      "   macro avg       0.56      0.65      0.51      2400\n",
      "weighted avg       0.86      0.64      0.71      2400\n",
      "\n"
     ]
    }
   ],
   "source": [
    "#validation\n",
    "\n",
    "# Making predictions\n",
    "predictions = rfc.predict(X_test)\n",
    "\n",
    "# Let's check the report of our default model\n",
    "print(classification_report(y_test,predictions))"
   ]
  },
  {
   "cell_type": "code",
   "execution_count": 507,
   "metadata": {
    "collapsed": false
   },
   "outputs": [],
   "source": [
    "with mlflow.start_run():\n",
    "    mlflow.set_tag('Stage', 'Validation') \n",
    "    mlflow.log_param(\"min_samples_split\", 2)\n",
    "    mlflow.log_param(\"n_estimators\", 50)\n",
    "    mlflow.sklearn.log_model(rfc, \"RandonForest\")\n",
    "    mlflow.log_metric(\"recall\", classification_report(y_test,predictions,output_dict=True)['1']['recall'])\n",
    "    mlflow.log_metric(\"precision\", classification_report(y_test,predictions,output_dict=True)['1']['precision'])"
   ]
  },
  {
   "cell_type": "code",
   "execution_count": 508,
   "metadata": {
    "collapsed": false
   },
   "outputs": [
    {
     "data": {
      "text/plain": [
       "RandomForestClassifier(bootstrap=True, ccp_alpha=0.0, class_weight=None,\n",
       "                       criterion='gini', max_depth=None, max_features='auto',\n",
       "                       max_leaf_nodes=None, max_samples=None,\n",
       "                       min_impurity_decrease=0.0, min_impurity_split=None,\n",
       "                       min_samples_leaf=1, min_samples_split=2,\n",
       "                       min_weight_fraction_leaf=0.0, n_estimators=50,\n",
       "                       n_jobs=None, oob_score=False, random_state=42, verbose=0,\n",
       "                       warm_start=False)"
      ]
     },
     "execution_count": 508,
     "metadata": {},
     "output_type": "execute_result"
    }
   ],
   "source": [
    "sm = SMOTE(random_state = 2) \n",
    "X_res, y_res = sm.fit_sample(X, y.ravel())\n",
    "\n",
    "rfc = RandomForestClassifier(min_samples_split=2, n_estimators=50, random_state=42)\n",
    "# fit\n",
    "rfc.fit(X_res,y_res)"
   ]
  },
  {
   "cell_type": "code",
   "execution_count": 509,
   "metadata": {
    "collapsed": false
   },
   "outputs": [
    {
     "name": "stdout",
     "output_type": "stream",
     "text": [
      "              precision    recall  f1-score   support\n",
      "\n",
      "           0       0.79      0.66      0.72      7158\n",
      "           1       0.71      0.83      0.76      7158\n",
      "\n",
      "    accuracy                           0.74     14316\n",
      "   macro avg       0.75      0.74      0.74     14316\n",
      "weighted avg       0.75      0.74      0.74     14316\n",
      "\n"
     ]
    }
   ],
   "source": [
    "predictions = rfc.predict(X_res)\n",
    "\n",
    "# Let's check the report of our default model\n",
    "print(classification_report(y_res,predictions))"
   ]
  },
  {
   "cell_type": "code",
   "execution_count": 567,
   "metadata": {
    "collapsed": false
   },
   "outputs": [
    {
     "ename": "TypeError",
     "evalue": "start_run() got an unexpected keyword argument 'runName'",
     "output_type": "error",
     "traceback": [
      "\u001b[0;31m---------------------------------------------------------------------------\u001b[0m",
      "\u001b[0;31mTypeError\u001b[0m                                 Traceback (most recent call last)",
      "\u001b[0;32m<ipython-input-567-186693fd8917>\u001b[0m in \u001b[0;36m<module>\u001b[0;34m\u001b[0m\n\u001b[0;32m----> 1\u001b[0;31m \u001b[0;32mwith\u001b[0m \u001b[0mmlflow\u001b[0m\u001b[0;34m.\u001b[0m\u001b[0mstart_run\u001b[0m\u001b[0;34m(\u001b[0m\u001b[0mrunName\u001b[0m \u001b[0;34m=\u001b[0m \u001b[0;34m'Test'\u001b[0m\u001b[0;34m)\u001b[0m\u001b[0;34m:\u001b[0m\u001b[0;34m\u001b[0m\u001b[0;34m\u001b[0m\u001b[0m\n\u001b[0m\u001b[1;32m      2\u001b[0m     \u001b[0mmlflow\u001b[0m\u001b[0;34m.\u001b[0m\u001b[0mset_experiment\u001b[0m\u001b[0;34m(\u001b[0m\u001b[0;34m'LeadPred'\u001b[0m\u001b[0;34m)\u001b[0m\u001b[0;34m\u001b[0m\u001b[0;34m\u001b[0m\u001b[0m\n\u001b[1;32m      3\u001b[0m     \u001b[0mmlflow\u001b[0m\u001b[0;34m.\u001b[0m\u001b[0mset_tag\u001b[0m\u001b[0;34m(\u001b[0m\u001b[0;34m'Stage'\u001b[0m\u001b[0;34m,\u001b[0m \u001b[0;34m'Training'\u001b[0m\u001b[0;34m)\u001b[0m\u001b[0;34m\u001b[0m\u001b[0;34m\u001b[0m\u001b[0m\n\u001b[1;32m      4\u001b[0m     \u001b[0mmlflow\u001b[0m\u001b[0;34m.\u001b[0m\u001b[0mlog_param\u001b[0m\u001b[0;34m(\u001b[0m\u001b[0;34m\"min_samples_split\"\u001b[0m\u001b[0;34m,\u001b[0m \u001b[0;36m2\u001b[0m\u001b[0;34m)\u001b[0m\u001b[0;34m\u001b[0m\u001b[0;34m\u001b[0m\u001b[0m\n\u001b[1;32m      5\u001b[0m     \u001b[0mmlflow\u001b[0m\u001b[0;34m.\u001b[0m\u001b[0mlog_param\u001b[0m\u001b[0;34m(\u001b[0m\u001b[0;34m\"n_estimators\"\u001b[0m\u001b[0;34m,\u001b[0m \u001b[0;36m50\u001b[0m\u001b[0;34m)\u001b[0m\u001b[0;34m\u001b[0m\u001b[0;34m\u001b[0m\u001b[0m\n",
      "\u001b[0;31mTypeError\u001b[0m: start_run() got an unexpected keyword argument 'runName'"
     ]
    }
   ],
   "source": [
    "with mlflow.start_run(runName = 'Test'):\n",
    "    mlflow.set_experiment('LeadPred')\n",
    "    mlflow.set_tag('Stage', 'Training') \n",
    "    mlflow.log_param(\"min_samples_split\", 2)\n",
    "    mlflow.log_param(\"n_estimators\", 50)\n",
    "    mlflow.sklearn.log_model(rfc, \"RandonForest\")\n",
    "    mlflow.log_metric(\"recall\", classification_report(y_res,predictions,output_dict=True)['1']['recall'])\n",
    "    mlflow.log_metric(\"precision\", classification_report(y_res,predictions,output_dict=True)['1']['precision'])"
   ]
  },
  {
   "cell_type": "code",
   "execution_count": 529,
   "metadata": {
    "collapsed": false
   },
   "outputs": [
    {
     "data": {
      "text/plain": [
       "638"
      ]
     },
     "execution_count": 529,
     "metadata": {},
     "output_type": "execute_result"
    }
   ],
   "source": [
    "dist = data.groupby(['landing_page_id', 'origin'],  as_index=False).mql_id.count()\n",
    "sum(dist.mql_id == 1)"
   ]
  },
  {
   "cell_type": "markdown",
   "metadata": {},
   "source": [
    "### There are lot of combinations (~60%) that are there just once and hence there is a big differcence in cross validation and test results"
   ]
  },
  {
   "cell_type": "markdown",
   "metadata": {},
   "source": [
    "### Load Model"
   ]
  },
  {
   "cell_type": "code",
   "execution_count": 515,
   "metadata": {
    "collapsed": true
   },
   "outputs": [],
   "source": [
    "model = mlflow.sklearn.load_model('mlruns/0/dbade588f1f44c5db2427ae03ad95ad5/artifacts/RandonForest')"
   ]
  },
  {
   "cell_type": "code",
   "execution_count": 516,
   "metadata": {
    "collapsed": false,
    "scrolled": true
   },
   "outputs": [
    {
     "name": "stdout",
     "output_type": "stream",
     "text": [
      "              precision    recall  f1-score   support\n",
      "\n",
      "           0       0.79      0.66      0.72      7158\n",
      "           1       0.71      0.83      0.76      7158\n",
      "\n",
      "    accuracy                           0.74     14316\n",
      "   macro avg       0.75      0.74      0.74     14316\n",
      "weighted avg       0.75      0.74      0.74     14316\n",
      "\n"
     ]
    }
   ],
   "source": [
    "predictions = model.predict(X_res)\n",
    "print(classification_report(y_res,predictions))\n"
   ]
  },
  {
   "cell_type": "code",
   "execution_count": null,
   "metadata": {
    "collapsed": true
   },
   "outputs": [],
   "source": []
  }
 ],
 "metadata": {
  "anaconda-cloud": {},
  "kernelspec": {
   "display_name": "Python [conda env:anaconda3]",
   "language": "python",
   "name": "conda-env-anaconda3-py"
  },
  "language_info": {
   "codemirror_mode": {
    "name": "ipython",
    "version": 3
   },
   "file_extension": ".py",
   "mimetype": "text/x-python",
   "name": "python",
   "nbconvert_exporter": "python",
   "pygments_lexer": "ipython3",
   "version": "3.7.3"
  }
 },
 "nbformat": 4,
 "nbformat_minor": 1
}
